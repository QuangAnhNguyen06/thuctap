{
 "cells": [
  {
   "cell_type": "code",
   "execution_count": 1,
   "id": "ad188151",
   "metadata": {},
   "outputs": [],
   "source": [
    "import pandas as pd\n",
    "import numpy as np\n",
    "import keras\n",
    "import tensorflow as tf"
   ]
  },
  {
   "cell_type": "code",
   "execution_count": 24,
   "id": "8e01774d",
   "metadata": {},
   "outputs": [],
   "source": [
    "from keras.models import load_model\n",
    "from keras.layers import Conv2D, MaxPooling2D\n",
    "from keras import regularizers, optimizers\n",
    "from keras_preprocessing.image import ImageDataGenerator\n",
    "import pickle"
   ]
  },
  {
   "cell_type": "code",
   "execution_count": 3,
   "id": "7a1608cf",
   "metadata": {},
   "outputs": [],
   "source": [
    "def append_ext(fn):\n",
    "    return fn.replace(\".wav\",\".png\")\n",
    "\n",
    "# Load du lieu test\n",
    "testdf=pd.read_csv('data/test.csv',dtype=str)\n",
    "testdf[\"slice_file_name\"]=testdf[\"slice_file_name\"].apply(append_ext)\n",
    "test_data_path='data/test/test'"
   ]
  },
  {
   "cell_type": "code",
   "execution_count": 4,
   "id": "7a52cdc6",
   "metadata": {
    "scrolled": true
   },
   "outputs": [
    {
     "data": {
      "text/html": [
       "<div>\n",
       "<style scoped>\n",
       "    .dataframe tbody tr th:only-of-type {\n",
       "        vertical-align: middle;\n",
       "    }\n",
       "\n",
       "    .dataframe tbody tr th {\n",
       "        vertical-align: top;\n",
       "    }\n",
       "\n",
       "    .dataframe thead th {\n",
       "        text-align: right;\n",
       "    }\n",
       "</style>\n",
       "<table border=\"1\" class=\"dataframe\">\n",
       "  <thead>\n",
       "    <tr style=\"text-align: right;\">\n",
       "      <th></th>\n",
       "      <th>slice_file_name</th>\n",
       "      <th>fsID</th>\n",
       "      <th>start</th>\n",
       "      <th>end</th>\n",
       "      <th>salience</th>\n",
       "      <th>fold</th>\n",
       "      <th>classID</th>\n",
       "      <th>class</th>\n",
       "    </tr>\n",
       "  </thead>\n",
       "  <tbody>\n",
       "    <tr>\n",
       "      <th>0</th>\n",
       "      <td>100648-1-0-0.png</td>\n",
       "      <td>100648</td>\n",
       "      <td>4.823402</td>\n",
       "      <td>5.471927</td>\n",
       "      <td>2</td>\n",
       "      <td>10</td>\n",
       "      <td>1</td>\n",
       "      <td>car_horn</td>\n",
       "    </tr>\n",
       "    <tr>\n",
       "      <th>1</th>\n",
       "      <td>100648-1-1-0.png</td>\n",
       "      <td>100648</td>\n",
       "      <td>8.998279</td>\n",
       "      <td>10.052132</td>\n",
       "      <td>2</td>\n",
       "      <td>10</td>\n",
       "      <td>1</td>\n",
       "      <td>car_horn</td>\n",
       "    </tr>\n",
       "    <tr>\n",
       "      <th>2</th>\n",
       "      <td>100648-1-2-0.png</td>\n",
       "      <td>100648</td>\n",
       "      <td>16.699509</td>\n",
       "      <td>17.104837</td>\n",
       "      <td>2</td>\n",
       "      <td>10</td>\n",
       "      <td>1</td>\n",
       "      <td>car_horn</td>\n",
       "    </tr>\n",
       "    <tr>\n",
       "      <th>3</th>\n",
       "      <td>100648-1-3-0.png</td>\n",
       "      <td>100648</td>\n",
       "      <td>17.631764</td>\n",
       "      <td>19.253075</td>\n",
       "      <td>2</td>\n",
       "      <td>10</td>\n",
       "      <td>1</td>\n",
       "      <td>car_horn</td>\n",
       "    </tr>\n",
       "    <tr>\n",
       "      <th>4</th>\n",
       "      <td>100648-1-4-0.png</td>\n",
       "      <td>100648</td>\n",
       "      <td>25.332994</td>\n",
       "      <td>27.197502</td>\n",
       "      <td>2</td>\n",
       "      <td>10</td>\n",
       "      <td>1</td>\n",
       "      <td>car_horn</td>\n",
       "    </tr>\n",
       "    <tr>\n",
       "      <th>...</th>\n",
       "      <td>...</td>\n",
       "      <td>...</td>\n",
       "      <td>...</td>\n",
       "      <td>...</td>\n",
       "      <td>...</td>\n",
       "      <td>...</td>\n",
       "      <td>...</td>\n",
       "      <td>...</td>\n",
       "    </tr>\n",
       "    <tr>\n",
       "      <th>2454</th>\n",
       "      <td>99179-9-0-17.png</td>\n",
       "      <td>99179</td>\n",
       "      <td>8.5</td>\n",
       "      <td>12.5</td>\n",
       "      <td>1</td>\n",
       "      <td>8</td>\n",
       "      <td>9</td>\n",
       "      <td>street_music</td>\n",
       "    </tr>\n",
       "    <tr>\n",
       "      <th>2455</th>\n",
       "      <td>99179-9-0-19.png</td>\n",
       "      <td>99179</td>\n",
       "      <td>9.5</td>\n",
       "      <td>13.5</td>\n",
       "      <td>1</td>\n",
       "      <td>8</td>\n",
       "      <td>9</td>\n",
       "      <td>street_music</td>\n",
       "    </tr>\n",
       "    <tr>\n",
       "      <th>2456</th>\n",
       "      <td>99179-9-0-38.png</td>\n",
       "      <td>99179</td>\n",
       "      <td>19</td>\n",
       "      <td>23</td>\n",
       "      <td>1</td>\n",
       "      <td>8</td>\n",
       "      <td>9</td>\n",
       "      <td>street_music</td>\n",
       "    </tr>\n",
       "    <tr>\n",
       "      <th>2457</th>\n",
       "      <td>99179-9-0-53.png</td>\n",
       "      <td>99179</td>\n",
       "      <td>26.5</td>\n",
       "      <td>30.5</td>\n",
       "      <td>1</td>\n",
       "      <td>8</td>\n",
       "      <td>9</td>\n",
       "      <td>street_music</td>\n",
       "    </tr>\n",
       "    <tr>\n",
       "      <th>2458</th>\n",
       "      <td>99179-9-0-58.png</td>\n",
       "      <td>99179</td>\n",
       "      <td>29</td>\n",
       "      <td>33</td>\n",
       "      <td>1</td>\n",
       "      <td>8</td>\n",
       "      <td>9</td>\n",
       "      <td>street_music</td>\n",
       "    </tr>\n",
       "  </tbody>\n",
       "</table>\n",
       "<p>2459 rows × 8 columns</p>\n",
       "</div>"
      ],
      "text/plain": [
       "       slice_file_name    fsID      start        end salience fold classID  \\\n",
       "0     100648-1-0-0.png  100648   4.823402   5.471927        2   10       1   \n",
       "1     100648-1-1-0.png  100648   8.998279  10.052132        2   10       1   \n",
       "2     100648-1-2-0.png  100648  16.699509  17.104837        2   10       1   \n",
       "3     100648-1-3-0.png  100648  17.631764  19.253075        2   10       1   \n",
       "4     100648-1-4-0.png  100648  25.332994  27.197502        2   10       1   \n",
       "...                ...     ...        ...        ...      ...  ...     ...   \n",
       "2454  99179-9-0-17.png   99179        8.5       12.5        1    8       9   \n",
       "2455  99179-9-0-19.png   99179        9.5       13.5        1    8       9   \n",
       "2456  99179-9-0-38.png   99179         19         23        1    8       9   \n",
       "2457  99179-9-0-53.png   99179       26.5       30.5        1    8       9   \n",
       "2458  99179-9-0-58.png   99179         29         33        1    8       9   \n",
       "\n",
       "             class  \n",
       "0         car_horn  \n",
       "1         car_horn  \n",
       "2         car_horn  \n",
       "3         car_horn  \n",
       "4         car_horn  \n",
       "...            ...  \n",
       "2454  street_music  \n",
       "2455  street_music  \n",
       "2456  street_music  \n",
       "2457  street_music  \n",
       "2458  street_music  \n",
       "\n",
       "[2459 rows x 8 columns]"
      ]
     },
     "execution_count": 4,
     "metadata": {},
     "output_type": "execute_result"
    }
   ],
   "source": [
    "testdf"
   ]
  },
  {
   "cell_type": "code",
   "execution_count": 12,
   "id": "29910cbf",
   "metadata": {},
   "outputs": [
    {
     "name": "stdout",
     "output_type": "stream",
     "text": [
      "Found 2459 validated image filenames.\n"
     ]
    }
   ],
   "source": [
    "test_datagen=ImageDataGenerator(rescale=1./255.)\n",
    "test_generator=test_datagen.flow_from_dataframe(\n",
    "    dataframe=testdf,\n",
    "    directory=test_data_path,\n",
    "    x_col=\"slice_file_name\",\n",
    "    y_col=None,\n",
    "    batch_size=32,\n",
    "    seed=42,\n",
    "    shuffle=False,\n",
    "    class_mode=None,\n",
    "    target_size=(64,64)\n",
    ")"
   ]
  },
  {
   "cell_type": "code",
   "execution_count": 13,
   "id": "830522e6",
   "metadata": {},
   "outputs": [
    {
     "name": "stderr",
     "output_type": "stream",
     "text": [
      "C:\\Users\\Admin\\AppData\\Local\\Temp/ipykernel_21132/3220849960.py:9: UserWarning: `Model.predict_generator` is deprecated and will be removed in a future version. Please use `Model.predict`, which supports generators.\n",
      "  pred = model.predict_generator(test_generator,steps=STEP_SIZE_TEST,verbose=1)\n"
     ]
    },
    {
     "name": "stdout",
     "output_type": "stream",
     "text": [
      "76/76 [==============================] - 6s 72ms/step\n"
     ]
    }
   ],
   "source": [
    "# TInh so buoc test\n",
    "STEP_SIZE_TEST=test_generator.n//test_generator.batch_size\n",
    "\n",
    "# Tien hanh predict\n",
    "test_generator.reset()\n",
    "\n",
    "# Load model da train\n",
    "model = load_model('model.h5')\n",
    "pred = model.predict_generator(test_generator,steps=STEP_SIZE_TEST,verbose=1)"
   ]
  },
  {
   "cell_type": "code",
   "execution_count": 22,
   "id": "de1f34d5",
   "metadata": {
    "scrolled": true
   },
   "outputs": [
    {
     "data": {
      "text/plain": [
       "array([[4.09287319e-20, 1.66059732e-01, 2.22941698e-15, ...,\n",
       "        7.72473235e-23, 2.72373400e-12, 2.51097276e-09],\n",
       "       [1.05233074e-23, 9.99841213e-01, 1.09058304e-13, ...,\n",
       "        1.06206119e-17, 3.30743351e-22, 1.58798153e-04],\n",
       "       [2.25369652e-24, 1.00000000e+00, 1.35442468e-27, ...,\n",
       "        1.07618787e-23, 1.37971930e-23, 1.68984327e-14],\n",
       "       ...,\n",
       "       [8.84466171e-01, 3.25954426e-03, 1.66762099e-02, ...,\n",
       "        3.41553008e-03, 6.49214344e-05, 8.87668356e-02],\n",
       "       [4.53875922e-02, 6.15122117e-05, 1.13524618e-02, ...,\n",
       "        2.87180282e-02, 2.47456882e-07, 9.03241098e-01],\n",
       "       [1.09461272e-30, 1.00000000e+00, 2.89596552e-33, ...,\n",
       "        9.05591823e-38, 1.95139646e-29, 1.04500306e-11]], dtype=float32)"
      ]
     },
     "execution_count": 22,
     "metadata": {},
     "output_type": "execute_result"
    }
   ],
   "source": [
    "pred"
   ]
  },
  {
   "cell_type": "code",
   "execution_count": 29,
   "id": "d03358a1",
   "metadata": {},
   "outputs": [
    {
     "data": {
      "text/plain": [
       "array([3, 1, 1, ..., 0, 9, 1], dtype=int64)"
      ]
     },
     "execution_count": 29,
     "metadata": {},
     "output_type": "execute_result"
    }
   ],
   "source": [
    "# Lay class predict probality lon nhat\n",
    "predicted_class_indices=np.argmax(pred,axis=1)\n",
    "predicted_class_indices"
   ]
  },
  {
   "cell_type": "code",
   "execution_count": 17,
   "id": "a285eb1f",
   "metadata": {},
   "outputs": [
    {
     "data": {
      "text/plain": [
       "2432"
      ]
     },
     "execution_count": 17,
     "metadata": {},
     "output_type": "execute_result"
    }
   ],
   "source": [
    "len(predicted_class_indices)"
   ]
  },
  {
   "cell_type": "code",
   "execution_count": 33,
   "id": "ad1a1446",
   "metadata": {},
   "outputs": [
    {
     "name": "stdout",
     "output_type": "stream",
     "text": [
      "Real values:\n",
      " 0            car_horn\n",
      "1            car_horn\n",
      "2            car_horn\n",
      "3            car_horn\n",
      "4            car_horn\n",
      "5            dog_bark\n",
      "6            dog_bark\n",
      "7            dog_bark\n",
      "8            dog_bark\n",
      "9    children_playing\n",
      "Name: class, dtype: object\n"
     ]
    }
   ],
   "source": [
    "print(\"Real values:\\n\",testdf.head(10)[\"class\"])"
   ]
  },
  {
   "cell_type": "code",
   "execution_count": 34,
   "id": "3021e313",
   "metadata": {},
   "outputs": [],
   "source": [
    "label={\n",
    "    '0':'air_conditioner',\n",
    "    '1':'car_horn',\n",
    "    '2':'children_playing',\n",
    "    '3':'dog_bark',\n",
    "    '4':'drilling',\n",
    "    '5':'engine_idling',\n",
    "    '6':'gun_shot',\n",
    "    '7':'jackhammer',\n",
    "    '8':'siren',\n",
    "    '9':'street_music',\n",
    "}"
   ]
  },
  {
   "cell_type": "code",
   "execution_count": 46,
   "id": "5fcf2945",
   "metadata": {
    "scrolled": false
   },
   "outputs": [
    {
     "data": {
      "text/plain": [
       "<tf.Tensor: shape=(10, 10), dtype=int32, numpy=\n",
       "array([[ 58,   0, 106,  31,  15,   3,   3,  39,  19,  26],\n",
       "       [  0,  74,   2,   1,   0,   0,   0,   0,   0,  18],\n",
       "       [  5,   2, 213,  28,   4,  12,   0,   2,   9,  25],\n",
       "       [ 10,   4,  38, 195,  10,   5,   0,   6,   7,  20],\n",
       "       [ 19,   5,   9,  10, 153,  17,   2,  63,  10,  10],\n",
       "       [ 20,   0,  14,  14,  46, 129,   0,  18,   4,  16],\n",
       "       [  1,   0,   0,   7,   0,   0,  85,   0,   0,   0],\n",
       "       [  4,   0,   2,   1,  40,   5,   1, 201,   0,   2],\n",
       "       [  5,   4,  19,   7,   0,  29,   0,   0, 169,   7],\n",
       "       [  1,  16,  21,   8,   7,   6,   0,   4,   8, 223]])>"
      ]
     },
     "execution_count": 46,
     "metadata": {},
     "output_type": "execute_result"
    }
   ],
   "source": [
    "cm = tf.math.confusion_matrix(labels=testdf[\"classID\"][:-27].astype(int),predictions=np.array(predicted_class_indices))\n",
    "cm"
   ]
  },
  {
   "cell_type": "code",
   "execution_count": 49,
   "id": "9af1e380",
   "metadata": {},
   "outputs": [
    {
     "data": {
      "text/plain": [
       "Text(69.0, 0.5, 'Truth')"
      ]
     },
     "execution_count": 49,
     "metadata": {},
     "output_type": "execute_result"
    },
    {
     "data": {
      "image/png": "[encoded data removed]",
      "text/plain": [
       "<Figure size 720x504 with 2 Axes>"
      ]
     },
     "metadata": {
      "needs_background": "light"
     },
     "output_type": "display_data"
    }
   ],
   "source": [
    "import seaborn as sn\n",
    "import matplotlib.pyplot as plt\n",
    "\n",
    "plt.figure(figsize = (10,7))\n",
    "sn.heatmap(cm, annot=True, fmt='d')\n",
    "plt.xlabel('Dự đoán')\n",
    "plt.ylabel('Truth')"
   ]
  }
 ],
 "metadata": {
  "kernelspec": {
   "display_name": "Python 3 (ipykernel)",
   "language": "python",
   "name": "python3"
  },
  "language_info": {
   "codemirror_mode": {
    "name": "ipython",
    "version": 3
   },
   "file_extension": ".py",
   "mimetype": "text/x-python",
   "name": "python",
   "nbconvert_exporter": "python",
   "pygments_lexer": "ipython3",
   "version": "3.9.7"
  }
 },
 "nbformat": 4,
 "nbformat_minor": 5
}
