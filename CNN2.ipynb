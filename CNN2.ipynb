{
 "cells": [
  {
   "cell_type": "code",
   "execution_count": 1,
   "id": "4e65c2b0",
   "metadata": {},
   "outputs": [],
   "source": [
    "import tensorflow as tf\n",
    "from tensorflow.keras import datasets, layers, models\n",
    "import matplotlib.pyplot as plt\n",
    "import numpy as np\n",
    "import seaborn as sn"
   ]
  },
  {
   "cell_type": "code",
   "execution_count": 2,
   "id": "11f9d507",
   "metadata": {},
   "outputs": [],
   "source": [
    "(X_train, y_train), (X_test,y_test) = datasets.cifar10.load_data()"
   ]
  },
  {
   "cell_type": "code",
   "execution_count": 3,
   "id": "f855c29a",
   "metadata": {},
   "outputs": [],
   "source": [
    "classes = [\"airplane\",\"automobile\",\"bird\",\"cat\",\"deer\",\"dog\",\"frog\",\"horse\",\"ship\",\"truck\"]"
   ]
  },
  {
   "cell_type": "code",
   "execution_count": 4,
   "id": "e639af63",
   "metadata": {},
   "outputs": [
    {
     "name": "stdout",
     "output_type": "stream",
     "text": [
      "(10000, 1)\n",
      "(50000, 1)\n",
      "(10000, 32, 32, 3)\n",
      "(50000, 32, 32, 3)\n"
     ]
    }
   ],
   "source": [
    "print(y_test.shape)\n",
    "print(y_train.shape)\n",
    "print(X_test.shape)\n",
    "print(X_train.shape)"
   ]
  },
  {
   "cell_type": "code",
   "execution_count": 5,
   "id": "aefe5ffb",
   "metadata": {},
   "outputs": [],
   "source": [
    "y_test = y_test.reshape(-1,)\n",
    "y_train = y_train.reshape(-1,)"
   ]
  },
  {
   "cell_type": "code",
   "execution_count": 6,
   "id": "f506ea35",
   "metadata": {},
   "outputs": [],
   "source": [
    "def plot_sample(X, y, index):\n",
    "    plt.figure(figsize = (15,2))\n",
    "    plt.imshow(X[index])\n",
    "    plt.xlabel(classes[y[index]])"
   ]
  },
  {
   "cell_type": "code",
   "execution_count": 7,
   "id": "8151a7d9",
   "metadata": {},
   "outputs": [],
   "source": [
    "X_train = X_train / 255.0\n",
    "X_test = X_test / 255.0"
   ]
  },
  {
   "cell_type": "code",
   "execution_count": 8,
   "id": "595b12b6",
   "metadata": {},
   "outputs": [],
   "source": [
    "cnn = models.Sequential([\n",
    "    layers.Conv2D(filters=32, kernel_size=(3, 3), activation='relu', input_shape=(32, 32, 3)),\n",
    "    layers.MaxPooling2D((2, 2)),\n",
    "    \n",
    "    layers.Conv2D(filters=64, kernel_size=(3, 3), activation='relu'),\n",
    "    layers.MaxPooling2D((2, 2)),\n",
    "    \n",
    "    layers.Conv2D(filters=128, kernel_size=(3, 3), activation='relu'),\n",
    "    layers.MaxPooling2D((2, 2)),\n",
    "    \n",
    "    layers.Flatten(),\n",
    "    layers.Dense(128, activation='relu'),\n",
    "    layers.Dense(10, activation='softmax')\n",
    "    \n",
    "    ])"
   ]
  },
  {
   "cell_type": "code",
   "execution_count": 9,
   "id": "06ae5267",
   "metadata": {},
   "outputs": [],
   "source": [
    "cnn.compile(optimizer='adam',\n",
    "              loss='sparse_categorical_crossentropy',\n",
    "              metrics=['accuracy'])"
   ]
  },
  {
   "cell_type": "code",
   "execution_count": 10,
   "id": "26232898",
   "metadata": {},
   "outputs": [
    {
     "name": "stdout",
     "output_type": "stream",
     "text": [
      "Epoch 1/5\n",
      "1563/1563 [==============================] - 41s 26ms/step - loss: 1.4579 - accuracy: 0.4712\n",
      "Epoch 2/5\n",
      "1563/1563 [==============================] - 40s 25ms/step - loss: 1.0890 - accuracy: 0.6154\n",
      "Epoch 3/5\n",
      "1563/1563 [==============================] - 39s 25ms/step - loss: 0.9340 - accuracy: 0.6713\n",
      "Epoch 4/5\n",
      "1563/1563 [==============================] - 42s 27ms/step - loss: 0.8256 - accuracy: 0.7115\n",
      "Epoch 5/5\n",
      "1563/1563 [==============================] - 50s 32ms/step - loss: 0.7404 - accuracy: 0.7408\n"
     ]
    },
    {
     "data": {
      "text/plain": [
       "<keras.callbacks.History at 0x22b933e03d0>"
      ]
     },
     "execution_count": 10,
     "metadata": {},
     "output_type": "execute_result"
    }
   ],
   "source": [
    "cnn.fit(X_train, y_train, epochs=5)"
   ]
  },
  {
   "cell_type": "code",
   "execution_count": 11,
   "id": "effca9c6",
   "metadata": {},
   "outputs": [
    {
     "name": "stdout",
     "output_type": "stream",
     "text": [
      "313/313 [==============================] - 3s 10ms/step - loss: 0.8763 - accuracy: 0.7030\n"
     ]
    },
    {
     "data": {
      "text/plain": [
       "[0.8763060569763184, 0.703000009059906]"
      ]
     },
     "execution_count": 11,
     "metadata": {},
     "output_type": "execute_result"
    }
   ],
   "source": [
    "cnn.evaluate(X_test,y_test)"
   ]
  },
  {
   "cell_type": "code",
   "execution_count": 12,
   "id": "56fcab6c",
   "metadata": {},
   "outputs": [
    {
     "name": "stdout",
     "output_type": "stream",
     "text": [
      "313/313 [==============================] - 3s 9ms/step\n"
     ]
    },
    {
     "data": {
      "text/plain": [
       "array([[2.53741769e-03, 4.53986926e-03, 1.41119910e-03, 2.69496262e-01,\n",
       "        1.01832746e-04, 6.80935290e-03, 1.95079688e-02, 7.94072475e-05,\n",
       "        6.92365944e-01, 3.15076043e-03],\n",
       "       [4.19894187e-03, 2.73665995e-03, 1.10492458e-07, 5.72425378e-08,\n",
       "        3.08350074e-08, 7.61905117e-09, 8.35570169e-10, 2.53071306e-07,\n",
       "        9.92980540e-01, 8.34431921e-05],\n",
       "       [6.17841557e-02, 2.58057527e-02, 3.52935458e-04, 8.27594136e-04,\n",
       "        2.04753978e-05, 9.88213869e-05, 2.05902339e-04, 1.26520143e-04,\n",
       "        8.92453432e-01, 1.83244199e-02],\n",
       "       [4.66509551e-01, 5.15796710e-04, 2.22794013e-03, 1.98241579e-03,\n",
       "        1.75724539e-03, 3.48303256e-05, 4.28131934e-05, 3.17851045e-05,\n",
       "        5.26650548e-01, 2.47104268e-04],\n",
       "       [4.42838937e-05, 9.39411548e-05, 7.71654909e-03, 1.24973822e-02,\n",
       "        5.94037652e-01, 2.16645375e-03, 3.83179992e-01, 1.10592344e-04,\n",
       "        1.46986175e-04, 6.24561653e-06]], dtype=float32)"
      ]
     },
     "execution_count": 12,
     "metadata": {},
     "output_type": "execute_result"
    }
   ],
   "source": [
    "y_pred = cnn.predict(X_test)\n",
    "y_pred[:5]"
   ]
  },
  {
   "cell_type": "code",
   "execution_count": 13,
   "id": "c0bc88af",
   "metadata": {},
   "outputs": [
    {
     "data": {
      "text/plain": [
       "[8, 8, 8, 8, 4]"
      ]
     },
     "execution_count": 13,
     "metadata": {},
     "output_type": "execute_result"
    }
   ],
   "source": [
    "y_classes = [np.argmax(element) for element in y_pred]\n",
    "y_classes[:5]"
   ]
  },
  {
   "cell_type": "code",
   "execution_count": 14,
   "id": "3f98cc5d",
   "metadata": {},
   "outputs": [
    {
     "data": {
      "image/png": "[encoded data removed]",
      "text/plain": [
       "<Figure size 1080x144 with 1 Axes>"
      ]
     },
     "metadata": {
      "needs_background": "light"
     },
     "output_type": "display_data"
    }
   ],
   "source": [
    "plot_sample(X_test, y_test,3)"
   ]
  },
  {
   "cell_type": "code",
   "execution_count": 15,
   "id": "98c73936",
   "metadata": {},
   "outputs": [
    {
     "data": {
      "text/plain": [
       "<tf.Tensor: shape=(10, 10), dtype=int32, numpy=\n",
       "array([[735,  20,  29,   5,  11,   2,  13,   8, 153,  24],\n",
       "       [ 22, 810,   2,   5,   1,   1,   6,   2,  62,  89],\n",
       "       [ 84,   8, 536,  61,  96,  37,  83,  34,  40,  21],\n",
       "       [ 27,   8,  55, 481,  70, 103, 113,  46,  53,  44],\n",
       "       [ 27,  13,  60,  48, 611,  16,  74,  83,  40,  28],\n",
       "       [ 23,   5,  52, 171,  47, 529,  55,  70,  22,  26],\n",
       "       [ 10,  11,  31,  27,  22,   7, 841,   9,  22,  20],\n",
       "       [ 25,   2,  20,  36,  54,  39,  17, 757,  10,  40],\n",
       "       [ 48,  17,   2,   7,   2,   1,   2,   3, 896,  22],\n",
       "       [ 31,  63,   3,   5,   2,   1,   9,  11,  41, 834]])>"
      ]
     },
     "execution_count": 15,
     "metadata": {},
     "output_type": "execute_result"
    }
   ],
   "source": [
    "cm = tf.math.confusion_matrix(labels=y_test,predictions=np.array(y_classes))\n",
    "cm"
   ]
  },
  {
   "cell_type": "code",
   "execution_count": 16,
   "id": "4311d517",
   "metadata": {},
   "outputs": [
    {
     "data": {
      "text/plain": [
       "Text(69.0, 0.5, 'Truth')"
      ]
     },
     "execution_count": 16,
     "metadata": {},
     "output_type": "execute_result"
    },
    {
     "data": {
      "image/png": "[encoded data removed]",
      "text/plain": [
       "<Figure size 720x504 with 2 Axes>"
      ]
     },
     "metadata": {
      "needs_background": "light"
     },
     "output_type": "display_data"
    }
   ],
   "source": [
    "plt.figure(figsize = (10,7))\n",
    "sn.heatmap(cm, annot=True, fmt='d')\n",
    "plt.xlabel('Prediction')\n",
    "plt.ylabel('Actual')"
   ]
  }
 ],
 "metadata": {
  "kernelspec": {
   "display_name": "Python 3 (ipykernel)",
   "language": "python",
   "name": "python3"
  },
  "language_info": {
   "codemirror_mode": {
    "name": "ipython",
    "version": 3
   },
   "file_extension": ".py",
   "mimetype": "text/x-python",
   "name": "python",
   "nbconvert_exporter": "python",
   "pygments_lexer": "ipython3",
   "version": "3.9.2"
  }
 },
 "nbformat": 4,
 "nbformat_minor": 5
}
