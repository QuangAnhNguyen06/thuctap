{
 "cells": [
  {
   "cell_type": "code",
   "execution_count": 1,
   "id": "077a14ee",
   "metadata": {},
   "outputs": [],
   "source": [
    "import tensorflow as tf\n",
    "from tensorflow.keras import datasets, layers, models\n",
    "import matplotlib.pyplot as plt\n",
    "import numpy as np"
   ]
  },
  {
   "cell_type": "code",
   "execution_count": 2,
   "id": "a85bce64",
   "metadata": {},
   "outputs": [],
   "source": [
    "(X_train, y_train), (X_test,y_test) = datasets.cifar10.load_data()"
   ]
  },
  {
   "cell_type": "code",
   "execution_count": 3,
   "id": "c2d21e61",
   "metadata": {},
   "outputs": [],
   "source": [
    "classes = [\"airplane\",\"automobile\",\"bird\",\"cat\",\"deer\",\"dog\",\"frog\",\"horse\",\"ship\",\"truck\"]"
   ]
  },
  {
   "cell_type": "code",
   "execution_count": 4,
   "id": "e69eb1fc",
   "metadata": {},
   "outputs": [
    {
     "name": "stdout",
     "output_type": "stream",
     "text": [
      "(10000, 1)\n",
      "(50000, 1)\n",
      "(10000, 32, 32, 3)\n",
      "(50000, 32, 32, 3)\n"
     ]
    }
   ],
   "source": [
    "print(y_test.shape)\n",
    "print(y_train.shape)\n",
    "print(X_test.shape)\n",
    "print(X_train.shape)"
   ]
  },
  {
   "cell_type": "code",
   "execution_count": 5,
   "id": "11bfaadd",
   "metadata": {},
   "outputs": [
    {
     "data": {
      "text/plain": [
       "array([[3],\n",
       "       [8],\n",
       "       [8],\n",
       "       ...,\n",
       "       [5],\n",
       "       [1],\n",
       "       [7]], dtype=uint8)"
      ]
     },
     "execution_count": 5,
     "metadata": {},
     "output_type": "execute_result"
    }
   ],
   "source": [
    "y_test\n",
    "\n",
    "#array([[3],\n",
    "#       [8],\n",
    "#       [8],\n",
    "#       ...,\n",
    "#       [5],\n",
    "#       [1],\n",
    "#       [7]], dtype=uint8)"
   ]
  },
  {
   "cell_type": "code",
   "execution_count": 6,
   "id": "5a0c4534",
   "metadata": {},
   "outputs": [],
   "source": [
    "y_test = y_test.reshape(-1,)\n",
    "y_train = y_train.reshape(-1,)"
   ]
  },
  {
   "cell_type": "code",
   "execution_count": 7,
   "id": "b3d5353f",
   "metadata": {},
   "outputs": [
    {
     "data": {
      "text/plain": [
       "array([3, 8, 8, ..., 5, 1, 7], dtype=uint8)"
      ]
     },
     "execution_count": 7,
     "metadata": {},
     "output_type": "execute_result"
    }
   ],
   "source": [
    "y_test\n",
    "\n",
    "#array([3, 8, 8, ..., 5, 1, 7], dtype=uint8)"
   ]
  },
  {
   "cell_type": "code",
   "execution_count": 8,
   "id": "68987ff4",
   "metadata": {},
   "outputs": [],
   "source": [
    "def plot_sample(X, y, index):\n",
    "    plt.figure(figsize = (15,2))\n",
    "    plt.imshow(X[index])\n",
    "    plt.xlabel(classes[y[index]])"
   ]
  },
  {
   "cell_type": "code",
   "execution_count": 9,
   "id": "6b8c8f9f",
   "metadata": {},
   "outputs": [
    {
     "data": {
      "image/png": "[encoded data removed]",
      "text/plain": [
       "<Figure size 1080x144 with 1 Axes>"
      ]
     },
     "metadata": {
      "needs_background": "light"
     },
     "output_type": "display_data"
    }
   ],
   "source": [
    "plot_sample(X_train, y_train, 100)"
   ]
  },
  {
   "cell_type": "code",
   "execution_count": 10,
   "id": "cbed7bad",
   "metadata": {},
   "outputs": [],
   "source": [
    "X_train = X_train / 255.0\n",
    "X_test = X_test / 255.0"
   ]
  },
  {
   "cell_type": "code",
   "execution_count": 11,
   "id": "d54cd506",
   "metadata": {},
   "outputs": [
    {
     "data": {
      "text/plain": [
       "array([[0.38039216, 0.30588235, 0.21960784],\n",
       "       [0.36862745, 0.29411765, 0.20784314],\n",
       "       [0.36470588, 0.29411765, 0.20784314],\n",
       "       [0.38039216, 0.33333333, 0.23921569],\n",
       "       [0.37647059, 0.3372549 , 0.23921569],\n",
       "       [0.36862745, 0.32941176, 0.23137255],\n",
       "       [0.37647059, 0.3372549 , 0.23921569],\n",
       "       [0.30980392, 0.27843137, 0.17254902],\n",
       "       [0.30588235, 0.27058824, 0.15686275],\n",
       "       [0.36470588, 0.30588235, 0.19215686],\n",
       "       [0.41176471, 0.32941176, 0.20784314],\n",
       "       [0.41960784, 0.3372549 , 0.21960784],\n",
       "       [0.38431373, 0.33333333, 0.22745098],\n",
       "       [0.38823529, 0.3254902 , 0.22352941],\n",
       "       [0.41568627, 0.34117647, 0.24313725],\n",
       "       [0.46666667, 0.38431373, 0.29019608],\n",
       "       [0.40784314, 0.34509804, 0.24313725],\n",
       "       [0.40784314, 0.33333333, 0.22745098],\n",
       "       [0.41568627, 0.33333333, 0.21568627],\n",
       "       [0.47843137, 0.38823529, 0.2627451 ],\n",
       "       [0.41960784, 0.33333333, 0.21176471],\n",
       "       [0.43921569, 0.37647059, 0.25882353],\n",
       "       [0.36078431, 0.31764706, 0.20784314],\n",
       "       [0.31372549, 0.24313725, 0.15294118],\n",
       "       [0.37647059, 0.30588235, 0.23137255],\n",
       "       [0.30196078, 0.2627451 , 0.16470588],\n",
       "       [0.33333333, 0.29803922, 0.17254902],\n",
       "       [0.32941176, 0.29411765, 0.18823529],\n",
       "       [0.2627451 , 0.22352941, 0.14901961],\n",
       "       [0.21176471, 0.18431373, 0.10980392],\n",
       "       [0.24705882, 0.21960784, 0.14509804],\n",
       "       [0.28235294, 0.25490196, 0.18039216]])"
      ]
     },
     "execution_count": 11,
     "metadata": {},
     "output_type": "execute_result"
    }
   ],
   "source": [
    "X_train[3][31]"
   ]
  },
  {
   "cell_type": "code",
   "execution_count": 12,
   "id": "b9c14c13",
   "metadata": {},
   "outputs": [
    {
     "data": {
      "text/plain": [
       "(50000, 32, 32, 3)"
      ]
     },
     "execution_count": 12,
     "metadata": {},
     "output_type": "execute_result"
    }
   ],
   "source": [
    "X_train.shape"
   ]
  },
  {
   "cell_type": "code",
   "execution_count": null,
   "id": "e53f415f",
   "metadata": {},
   "outputs": [],
   "source": [
    "#ann = models.Sequential([\n",
    "#        layers.Flatten(input_shape=(32,32,3)),\n",
    "#        layers.Dense(3000, activation='relu'),\n",
    "#        layers.Dense(1000, activation='relu'),\n",
    "#        layers.Dense(10, activation='softmax')    \n",
    "#    ])\n",
    "\n",
    "#ann.compile(optimizer='SGD',\n",
    "#              loss='sparse_categorical_crossentropy',\n",
    "#              metrics=['accuracy'])\n",
    "\n",
    "#ann.fit(X_train, y_train, epochs=5)"
   ]
  },
  {
   "cell_type": "code",
   "execution_count": 13,
   "id": "9e82ad75",
   "metadata": {},
   "outputs": [],
   "source": [
    "cnn = models.Sequential([\n",
    "    layers.Conv2D(filters=32, kernel_size=(3, 3), activation='relu', input_shape=(32, 32, 3)),\n",
    "    layers.MaxPooling2D((2, 2)),\n",
    "    \n",
    "    layers.Conv2D(filters=64, kernel_size=(3, 3), activation='relu'),\n",
    "    layers.MaxPooling2D((2, 2)),\n",
    "    \n",
    "    layers.Flatten(),\n",
    "    layers.Dense(64, activation='relu'),\n",
    "    layers.Dense(10, activation='softmax')\n",
    "])"
   ]
  },
  {
   "cell_type": "code",
   "execution_count": 14,
   "id": "64b81a3a",
   "metadata": {},
   "outputs": [],
   "source": [
    "cnn.compile(optimizer='adam',\n",
    "              loss='sparse_categorical_crossentropy',\n",
    "              metrics=['accuracy'])"
   ]
  },
  {
   "cell_type": "code",
   "execution_count": 15,
   "id": "2438ff71",
   "metadata": {},
   "outputs": [
    {
     "name": "stdout",
     "output_type": "stream",
     "text": [
      "Epoch 1/10\n",
      "1563/1563 [==============================] - 35s 22ms/step - loss: 1.5193 - accuracy: 0.4513\n",
      "Epoch 2/10\n",
      "1563/1563 [==============================] - 34s 22ms/step - loss: 1.1465 - accuracy: 0.5940\n",
      "Epoch 3/10\n",
      "1563/1563 [==============================] - 53s 34ms/step - loss: 1.0125 - accuracy: 0.6472\n",
      "Epoch 4/10\n",
      "1563/1563 [==============================] - 55s 35ms/step - loss: 0.9325 - accuracy: 0.6756\n",
      "Epoch 5/10\n",
      "1563/1563 [==============================] - 53s 34ms/step - loss: 0.8715 - accuracy: 0.6979\n",
      "Epoch 6/10\n",
      "1563/1563 [==============================] - 62s 40ms/step - loss: 0.8233 - accuracy: 0.7124\n",
      "Epoch 7/10\n",
      "1563/1563 [==============================] - 54s 34ms/step - loss: 0.7827 - accuracy: 0.7274\n",
      "Epoch 8/10\n",
      "1563/1563 [==============================] - 56s 36ms/step - loss: 0.7436 - accuracy: 0.7434\n",
      "Epoch 9/10\n",
      "1563/1563 [==============================] - 45s 29ms/step - loss: 0.7114 - accuracy: 0.7528\n",
      "Epoch 10/10\n",
      "1563/1563 [==============================] - 54s 35ms/step - loss: 0.6771 - accuracy: 0.7625\n"
     ]
    },
    {
     "data": {
      "text/plain": [
       "<keras.callbacks.History at 0x25c9f9aa850>"
      ]
     },
     "execution_count": 15,
     "metadata": {},
     "output_type": "execute_result"
    }
   ],
   "source": [
    "cnn.fit(X_train, y_train, epochs=10)"
   ]
  },
  {
   "cell_type": "code",
   "execution_count": 16,
   "id": "a88f1607",
   "metadata": {},
   "outputs": [
    {
     "name": "stdout",
     "output_type": "stream",
     "text": [
      "313/313 [==============================] - 5s 12ms/step - loss: 0.9384 - accuracy: 0.6899\n"
     ]
    },
    {
     "data": {
      "text/plain": [
       "[0.9383512735366821, 0.6898999810218811]"
      ]
     },
     "execution_count": 16,
     "metadata": {},
     "output_type": "execute_result"
    }
   ],
   "source": [
    "cnn.evaluate(X_test,y_test)"
   ]
  },
  {
   "cell_type": "code",
   "execution_count": 17,
   "id": "6a999696",
   "metadata": {},
   "outputs": [
    {
     "name": "stdout",
     "output_type": "stream",
     "text": [
      "313/313 [==============================] - 4s 12ms/step\n"
     ]
    },
    {
     "data": {
      "text/plain": [
       "array([[1.41539797e-03, 1.47121755e-04, 1.29904542e-02, 5.28781891e-01,\n",
       "        1.42815977e-03, 3.31306934e-01, 9.14262682e-02, 6.30796130e-05,\n",
       "        3.23370248e-02, 1.03628649e-04],\n",
       "       [5.71839698e-03, 7.85546284e-03, 1.24382700e-06, 2.70529856e-08,\n",
       "        1.55439981e-08, 1.63488126e-10, 5.42437872e-10, 5.71090508e-09,\n",
       "        9.86155927e-01, 2.68924778e-04],\n",
       "       [5.52442893e-02, 3.53846610e-01, 7.04405922e-03, 4.46636463e-03,\n",
       "        5.86247724e-03, 5.25982876e-04, 1.76395790e-03, 2.78440956e-03,\n",
       "        4.44243580e-01, 1.24218315e-01],\n",
       "       [9.24469829e-01, 6.39223540e-03, 2.42562965e-02, 2.66827963e-04,\n",
       "        4.03905800e-03, 1.18100149e-06, 5.33276125e-06, 2.29662604e-04,\n",
       "        3.97932902e-02, 5.46297990e-04],\n",
       "       [4.56635325e-06, 1.88371141e-05, 2.72603054e-02, 6.34797290e-02,\n",
       "        1.81534082e-01, 4.91089141e-03, 7.22375989e-01, 9.91642764e-07,\n",
       "        4.09611122e-04, 4.98124291e-06]], dtype=float32)"
      ]
     },
     "execution_count": 17,
     "metadata": {},
     "output_type": "execute_result"
    }
   ],
   "source": [
    "y_pred = cnn.predict(X_test)\n",
    "y_pred[:5]"
   ]
  },
  {
   "cell_type": "code",
   "execution_count": 18,
   "id": "8ee58871",
   "metadata": {},
   "outputs": [
    {
     "data": {
      "text/plain": [
       "[3, 8, 8, 0, 6]"
      ]
     },
     "execution_count": 18,
     "metadata": {},
     "output_type": "execute_result"
    }
   ],
   "source": [
    "y_classes = [np.argmax(element) for element in y_pred]\n",
    "y_classes[:5]"
   ]
  },
  {
   "cell_type": "code",
   "execution_count": 19,
   "id": "a1ef79e7",
   "metadata": {},
   "outputs": [
    {
     "data": {
      "image/png": "[encoded data removed]",
      "text/plain": [
       "<Figure size 1080x144 with 1 Axes>"
      ]
     },
     "metadata": {
      "needs_background": "light"
     },
     "output_type": "display_data"
    }
   ],
   "source": [
    "plot_sample(X_test, y_test,3)"
   ]
  },
  {
   "cell_type": "code",
   "execution_count": 20,
   "id": "da6f09eb",
   "metadata": {
    "scrolled": true
   },
   "outputs": [
    {
     "data": {
      "text/plain": [
       "<tf.Tensor: shape=(10, 10), dtype=int32, numpy=\n",
       "array([[738,  18,  48,  15,  15,   6,   9,  11, 102,  38],\n",
       "       [ 28, 790,   5,   9,   3,  12,   6,   7,  41,  99],\n",
       "       [ 83,  10, 559,  43,  69, 114,  42,  54,  14,  12],\n",
       "       [ 31,  14,  77, 417,  50, 269,  49,  60,  15,  18],\n",
       "       [ 34,   7,  78,  66, 580,  61,  56, 100,  13,   5],\n",
       "       [ 18,   4,  51, 114,  27, 699,  18,  52,  10,   7],\n",
       "       [ 10,  10,  53,  66,  42,  50, 738,  15,   9,   7],\n",
       "       [ 17,   6,  31,  21,  49,  83,   7, 762,   2,  22],\n",
       "       [ 46,  39,  14,  11,   8,  14,   5,   6, 827,  30],\n",
       "       [ 33,  68,  10,  11,  10,  16,   6,  19,  38, 789]])>"
      ]
     },
     "execution_count": 20,
     "metadata": {},
     "output_type": "execute_result"
    }
   ],
   "source": [
    "cm = tf.math.confusion_matrix(labels=y_test,predictions=np.array(y_classes))\n",
    "cm"
   ]
  },
  {
   "cell_type": "code",
   "execution_count": 21,
   "id": "b5f4a6e3",
   "metadata": {},
   "outputs": [
    {
     "data": {
      "text/plain": [
       "Text(69.0, 0.5, 'Truth')"
      ]
     },
     "execution_count": 21,
     "metadata": {},
     "output_type": "execute_result"
    },
    {
     "data": {
      "image/png": "[encoded data removed]",
      "text/plain": [
       "<Figure size 720x504 with 2 Axes>"
      ]
     },
     "metadata": {
      "needs_background": "light"
     },
     "output_type": "display_data"
    }
   ],
   "source": [
    "import seaborn as sn\n",
    "plt.figure(figsize = (10,7))\n",
    "sn.heatmap(cm, annot=True, fmt='d')\n",
    "plt.xlabel('Dự đoán')\n",
    "plt.ylabel('Truth')"
   ]
  }
 ],
 "metadata": {
  "kernelspec": {
   "display_name": "Python 3 (ipykernel)",
   "language": "python",
   "name": "python3"
  },
  "language_info": {
   "codemirror_mode": {
    "name": "ipython",
    "version": 3
   },
   "file_extension": ".py",
   "mimetype": "text/x-python",
   "name": "python",
   "nbconvert_exporter": "python",
   "pygments_lexer": "ipython3",
   "version": "3.9.2"
  }
 },
 "nbformat": 4,
 "nbformat_minor": 5
}
